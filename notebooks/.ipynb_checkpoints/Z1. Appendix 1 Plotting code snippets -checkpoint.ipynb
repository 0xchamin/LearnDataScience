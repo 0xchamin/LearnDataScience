{
 "cells": [
  {
   "cell_type": "markdown",
   "metadata": {},
   "source": [
    "###Basic Imports"
   ]
  },
  {
   "cell_type": "code",
   "execution_count": null,
   "metadata": {
    "collapsed": false
   },
   "outputs": [],
   "source": [
    "from numpy import *\n",
    "import matplotlib.pyplot as plt"
   ]
  },
  {
   "cell_type": "markdown",
   "metadata": {},
   "source": [
    "###Basic Plot"
   ]
  },
  {
   "cell_type": "code",
   "execution_count": null,
   "metadata": {
    "collapsed": false
   },
   "outputs": [],
   "source": [
    "x = arange(0.,10.,0.1) # generate a range of values as an array, using begin, end, step as input \n",
    "y = sin(x)\n",
    "ll = plt.plot(x,y) # this is the simplest plotting idiom\n",
    "plt.show()"
   ]
  },
  {
   "cell_type": "markdown",
   "metadata": {},
   "source": [
    "###Setting Plot Parameters and annotating"
   ]
  },
  {
   "cell_type": "code",
   "execution_count": null,
   "metadata": {
    "collapsed": false
   },
   "outputs": [],
   "source": [
    "ll = plt.plot(x,y)\n",
    "xl = plt.xlabel('horizontal axis')\n",
    "yl = plt.ylabel('vertical axis')\n",
    "ttl = plt.title('sine function')\n",
    "ax = plt.axis([-2, 12, -1.5, 1.5])\n",
    "grd = plt.grid(True)\n",
    "txt = plt.text(0,1.3,'here is some text')\n",
    "ann = plt.annotate('a point on curve',xy=(4.7,-1),xytext=(3,-1.3),arrowprops=dict(arrowstyle='->'))\n",
    "plt.show()"
   ]
  },
  {
   "cell_type": "markdown",
   "metadata": {},
   "source": [
    "###Multiple Graphs On the Same Plot"
   ]
  },
  {
   "cell_type": "code",
   "execution_count": null,
   "metadata": {
    "collapsed": false
   },
   "outputs": [],
   "source": [
    "x = arange(0.,10,0.1)\n",
    "a = cos(x)\n",
    "b = sin(x)\n",
    "c = exp(x/10)\n",
    "d = exp(-x/10)\n",
    "la = plt.plot(x,a,'b-',label='cosine')\n",
    "lb = plt.plot(x,b,'r--',label='sine')\n",
    "lc = plt.plot(x,c,'gx',label='exp(+x)')\n",
    "ld = plt.plot(x,d,'y-', linewidth = 5,label='exp(-x)')\n",
    "ll = plt.legend(loc='upper left')\n",
    "lx = plt.xlabel('xaxis')\n",
    "ly = plt.ylabel('yaxis')\n",
    "plt.show()"
   ]
  },
  {
   "cell_type": "markdown",
   "metadata": {},
   "source": [
    "###Plotting with multiple plots on a grid"
   ]
  },
  {
   "cell_type": "markdown",
   "metadata": {},
   "source": [
    "Details on grid plotting <http://matplotlib.org/users/gridspec.html>"
   ]
  },
  {
   "cell_type": "markdown",
   "metadata": {},
   "source": [
    "###Some neat tricks with legends, bg colors and arrows in labels"
   ]
  },
  {
   "cell_type": "code",
   "execution_count": null,
   "metadata": {
    "collapsed": false
   },
   "outputs": [],
   "source": [
    "a = np.arange(0,3,.02)\n",
    "b = np.arange(0,3,.02)\n",
    "c = np.exp(a)\n",
    "d = c[::-1]\n",
    "\n",
    "fig = plt.figure()\n",
    "ax = fig.add_subplot(111)\n",
    "ax.plot(a,c,'k--',a,d,'k:',a,c+d,'k')\n",
    "leg = ax.legend(('Model length', 'Data length', 'Total message length'),\n",
    "           'upper center', shadow=True)\n",
    "ax.set_ylim([-1,20])\n",
    "ax.grid(True)\n",
    "ax.set_xlabel('Model complexity --->')\n",
    "ax.set_ylabel('Message length --->')\n",
    "ax.set_title('Minimum Message Length')\n",
    "\n",
    "ax.set_yticklabels([])\n",
    "ax.set_xticklabels([])\n",
    "\n",
    "# set some legend properties.  All the code below is optional.  The\n",
    "# defaults are usually sensible but if you need more control, this\n",
    "# shows you how\n",
    "\n",
    "# the matplotlib.patches.Rectangle instance surrounding the legend\n",
    "frame  = leg.get_frame()\n",
    "frame.set_facecolor('0.80')    # set the frame face color to light gray\n",
    "\n",
    "# matplotlib.text.Text instances\n",
    "for t in leg.get_texts():\n",
    "    t.set_fontsize('small')    # the legend text fontsize\n",
    "\n",
    "# matplotlib.lines.Line2D instances\n",
    "for l in leg.get_lines():\n",
    "    l.set_linewidth(1.5)  # the legend line width\n",
    "plt.show()"
   ]
  },
  {
   "cell_type": "code",
   "execution_count": null,
   "metadata": {
    "collapsed": false
   },
   "outputs": [],
   "source": [
    "### Plotting using the OO interface and setting low level parameters"
   ]
  },
  {
   "cell_type": "code",
   "execution_count": null,
   "metadata": {
    "collapsed": false
   },
   "outputs": [],
   "source": [
    "import matplotlib.pyplot as plt #1\n",
    "figsize = (8, 5) #2 \n",
    "fig = plt.figure(figsize=figsize) #3 \n",
    "ax = fig.add_subplot(111) #4 \n",
    "line = ax.plot(range(10))[0] #5 \n",
    "ax.set_title('Plotted with OO interface') #6 \n",
    "ax.set_xlabel('measured') \n",
    "ax.set_ylabel('calculated')\n",
    "ax.grid(True) #7 \n",
    "line.set_marker('o')\n",
    "plt.savefig('oo.png',dpi=150)\n",
    "plt.show()"
   ]
  },
  {
   "cell_type": "markdown",
   "metadata": {},
   "source": [
    "### Basic Pylab Boxplot \n",
    "also see pandas.boxplot"
   ]
  },
  {
   "cell_type": "code",
   "execution_count": null,
   "metadata": {
    "collapsed": false
   },
   "outputs": [],
   "source": [
    "import pandas as pd    \n",
    "from pylab import boxplot as bp\n",
    "plt.figure()\n",
    "loansmin = pd.read_csv('../datasets/loanf.csv')\n",
    "data = loansmin['FICO.Score']\n",
    "arrdata = np.array(data)\n",
    "print(data[1:3])\n",
    "print(\"****\")\n",
    "print(type(arrdata))   \n",
    "    # basic plot\n",
    "b = bp(arrdata)"
   ]
  },
  {
   "cell_type": "markdown",
   "metadata": {},
   "source": [
    "###References\n",
    "\n",
    "[1] Graphics with Matplotlib <http://physics.nmt.edu/~raymond/software/python_notes/paper004.html>  \n",
    "[2] Details on grid plotting <http://matplotlib.org/users/gridspec.html>"
   ]
  },
  {
   "cell_type": "code",
   "execution_count": null,
   "metadata": {
    "collapsed": false
   },
   "outputs": [],
   "source": [
    "import pandas as pd"
   ]
  },
  {
   "cell_type": "code",
   "execution_count": null,
   "metadata": {
    "collapsed": false
   },
   "outputs": [],
   "source": []
  }
 ],
 "metadata": {
  "kernelspec": {
   "display_name": "Python 2",
   "language": "python",
   "name": "python2"
  },
  "language_info": {
   "codemirror_mode": {
    "name": "ipython",
    "version": 2
   },
   "file_extension": ".py",
   "mimetype": "text/x-python",
   "name": "python",
   "nbconvert_exporter": "python",
   "pygments_lexer": "ipython2",
   "version": "2.7.9"
  }
 },
 "nbformat": 4,
 "nbformat_minor": 0
}
